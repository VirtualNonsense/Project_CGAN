{
 "cells": [
  {
   "cell_type": "code",
   "execution_count": 1,
   "metadata": {},
   "outputs": [
    {
     "name": "stderr",
     "output_type": "stream",
     "text": [
      "DEBUG:musicbrainzngs:set user-agent to cgan_trainings_data_grabber/0.0.1 python-musicbrainzngs/0.7.1 ( virtualnonsense@mailbox.org )\n"
     ]
    }
   ],
   "source": [
    "import musicbrainzngs as brainz\n",
    "import logging\n",
    "import io\n",
    "import json\n",
    "\n",
    "import PIL.Image as Image\n",
    "\n",
    "logging.basicConfig(level=logging.DEBUG)\n",
    "# brainz.set_hostname(\"coverartarchive.org\")\n",
    "brainz.set_useragent(\"cgan_trainings_data_grabber\", \"0.0.1\", \"virtualnonsense@mailbox.org\")"
   ]
  },
  {
   "cell_type": "code",
   "execution_count": 22,
   "metadata": {
    "pycharm": {
     "name": "#%%\n"
    }
   },
   "outputs": [
    {
     "name": "stderr",
     "output_type": "stream",
     "text": [
      "DEBUG:musicbrainzngs:GET request for https://musicbrainz.org/ws/2/artist/?limit=100&query=b\n",
      "DEBUG:musicbrainzngs:requesting with UA cgan_trainings_data_grabber/0.0.1 python-musicbrainzngs/0.7.1 ( virtualnonsense@mailbox.org )\n",
      "INFO:musicbrainzngs:in <ws2:artist>, uncaught attribute type-id\n",
      "INFO:musicbrainzngs:in <ws2:area>, uncaught attribute type-id\n",
      "INFO:musicbrainzngs:in <ws2:begin-area>, uncaught attribute type-id\n",
      "INFO:musicbrainzngs:in <ws2:artist>, uncaught attribute type-id\n",
      "INFO:musicbrainzngs:in <ws2:artist>, uncaught attribute type-id\n",
      "INFO:musicbrainzngs:in <ws2:area>, uncaught attribute type-id\n",
      "INFO:musicbrainzngs:in <ws2:begin-area>, uncaught attribute type-id\n",
      "INFO:musicbrainzngs:in <ws2:alias>, uncaught attribute type-id\n",
      "INFO:musicbrainzngs:in <ws2:artist>, uncaught attribute type-id\n",
      "INFO:musicbrainzngs:in <ws2:begin-area>, uncaught attribute type-id\n",
      "INFO:musicbrainzngs:in <ws2:alias>, uncaught attribute type-id\n",
      "INFO:musicbrainzngs:in <ws2:alias>, uncaught attribute type-id\n",
      "INFO:musicbrainzngs:in <ws2:alias>, uncaught attribute type-id\n",
      "INFO:musicbrainzngs:in <ws2:alias>, uncaught attribute type-id\n",
      "INFO:musicbrainzngs:in <ws2:alias>, uncaught attribute type-id\n",
      "INFO:musicbrainzngs:in <ws2:alias>, uncaught attribute type-id\n",
      "INFO:musicbrainzngs:in <ws2:artist>, uncaught attribute type-id\n",
      "INFO:musicbrainzngs:in <ws2:area>, uncaught attribute type-id\n",
      "INFO:musicbrainzngs:in <ws2:artist>, uncaught attribute type-id\n",
      "INFO:musicbrainzngs:in <ws2:area>, uncaught attribute type-id\n",
      "INFO:musicbrainzngs:in <ws2:begin-area>, uncaught attribute type-id\n",
      "INFO:musicbrainzngs:in <ws2:artist>, uncaught attribute type-id\n",
      "INFO:musicbrainzngs:in <ws2:area>, uncaught attribute type-id\n",
      "INFO:musicbrainzngs:in <ws2:alias>, uncaught attribute type-id\n",
      "INFO:musicbrainzngs:in <ws2:alias>, uncaught attribute type-id\n",
      "INFO:musicbrainzngs:in <ws2:artist>, uncaught attribute type-id\n",
      "INFO:musicbrainzngs:in <ws2:area>, uncaught attribute type-id\n",
      "INFO:musicbrainzngs:in <ws2:begin-area>, uncaught attribute type-id\n",
      "INFO:musicbrainzngs:in <ws2:artist>, uncaught attribute type-id\n",
      "INFO:musicbrainzngs:in <ws2:area>, uncaught attribute type-id\n",
      "INFO:musicbrainzngs:in <ws2:begin-area>, uncaught attribute type-id\n",
      "INFO:musicbrainzngs:in <ws2:alias>, uncaught attribute type-id\n",
      "INFO:musicbrainzngs:in <ws2:artist>, uncaught attribute type-id\n",
      "INFO:musicbrainzngs:in <ws2:area>, uncaught attribute type-id\n",
      "INFO:musicbrainzngs:in <ws2:begin-area>, uncaught attribute type-id\n",
      "INFO:musicbrainzngs:in <ws2:artist>, uncaught attribute type-id\n",
      "INFO:musicbrainzngs:in <ws2:area>, uncaught attribute type-id\n",
      "INFO:musicbrainzngs:in <ws2:begin-area>, uncaught attribute type-id\n",
      "INFO:musicbrainzngs:in <ws2:alias>, uncaught attribute type-id\n",
      "INFO:musicbrainzngs:in <ws2:alias>, uncaught attribute type-id\n",
      "INFO:musicbrainzngs:in <ws2:alias>, uncaught attribute type-id\n",
      "INFO:musicbrainzngs:in <ws2:alias>, uncaught attribute type-id\n",
      "INFO:musicbrainzngs:in <ws2:alias>, uncaught attribute type-id\n",
      "INFO:musicbrainzngs:in <ws2:artist>, uncaught attribute type-id\n",
      "INFO:musicbrainzngs:in <ws2:artist>, uncaught attribute type-id\n",
      "INFO:musicbrainzngs:in <ws2:area>, uncaught attribute type-id\n",
      "INFO:musicbrainzngs:in <ws2:begin-area>, uncaught attribute type-id\n",
      "INFO:musicbrainzngs:in <ws2:end-area>, uncaught attribute type-id\n",
      "INFO:musicbrainzngs:in <ws2:alias>, uncaught attribute type-id\n",
      "INFO:musicbrainzngs:in <ws2:artist>, uncaught attribute type-id\n",
      "INFO:musicbrainzngs:in <ws2:area>, uncaught attribute type-id\n",
      "INFO:musicbrainzngs:in <ws2:artist>, uncaught attribute type-id\n",
      "INFO:musicbrainzngs:in <ws2:artist>, uncaught attribute type-id\n",
      "INFO:musicbrainzngs:in <ws2:area>, uncaught attribute type-id\n",
      "INFO:musicbrainzngs:in <ws2:artist>, uncaught attribute type-id\n",
      "INFO:musicbrainzngs:in <ws2:area>, uncaught attribute type-id\n",
      "INFO:musicbrainzngs:in <ws2:artist>, uncaught attribute type-id\n",
      "INFO:musicbrainzngs:in <ws2:artist>, uncaught attribute type-id\n",
      "INFO:musicbrainzngs:in <ws2:area>, uncaught attribute type-id\n",
      "INFO:musicbrainzngs:in <ws2:alias>, uncaught attribute type-id\n",
      "INFO:musicbrainzngs:in <ws2:artist>, uncaught attribute type-id\n",
      "INFO:musicbrainzngs:in <ws2:artist>, uncaught attribute type-id\n",
      "INFO:musicbrainzngs:in <ws2:artist>, uncaught attribute type-id\n",
      "INFO:musicbrainzngs:in <ws2:artist>, uncaught attribute type-id\n",
      "INFO:musicbrainzngs:in <ws2:area>, uncaught attribute type-id\n",
      "INFO:musicbrainzngs:in <ws2:artist>, uncaught attribute type-id\n",
      "INFO:musicbrainzngs:in <ws2:area>, uncaught attribute type-id\n",
      "INFO:musicbrainzngs:in <ws2:begin-area>, uncaught attribute type-id\n",
      "INFO:musicbrainzngs:in <ws2:alias>, uncaught attribute type-id\n",
      "INFO:musicbrainzngs:in <ws2:artist>, uncaught attribute type-id\n",
      "INFO:musicbrainzngs:in <ws2:area>, uncaught attribute type-id\n",
      "INFO:musicbrainzngs:in <ws2:artist>, uncaught attribute type-id\n",
      "INFO:musicbrainzngs:in <ws2:area>, uncaught attribute type-id\n",
      "INFO:musicbrainzngs:in <ws2:artist>, uncaught attribute type-id\n",
      "INFO:musicbrainzngs:in <ws2:area>, uncaught attribute type-id\n",
      "INFO:musicbrainzngs:in <ws2:begin-area>, uncaught attribute type-id\n",
      "INFO:musicbrainzngs:in <ws2:alias>, uncaught attribute type-id\n",
      "INFO:musicbrainzngs:in <ws2:artist>, uncaught attribute type-id\n",
      "INFO:musicbrainzngs:in <ws2:area>, uncaught attribute type-id\n",
      "INFO:musicbrainzngs:in <ws2:begin-area>, uncaught attribute type-id\n",
      "INFO:musicbrainzngs:in <ws2:alias>, uncaught attribute type-id\n",
      "INFO:musicbrainzngs:in <ws2:alias>, uncaught attribute type-id\n",
      "INFO:musicbrainzngs:in <ws2:artist>, uncaught attribute type-id\n",
      "INFO:musicbrainzngs:in <ws2:area>, uncaught attribute type-id\n",
      "INFO:musicbrainzngs:in <ws2:begin-area>, uncaught attribute type-id\n",
      "INFO:musicbrainzngs:in <ws2:alias>, uncaught attribute type-id\n",
      "INFO:musicbrainzngs:in <ws2:artist>, uncaught attribute type-id\n",
      "INFO:musicbrainzngs:in <ws2:artist>, uncaught attribute type-id\n",
      "INFO:musicbrainzngs:in <ws2:area>, uncaught attribute type-id\n",
      "INFO:musicbrainzngs:in <ws2:artist>, uncaught attribute type-id\n",
      "INFO:musicbrainzngs:in <ws2:area>, uncaught attribute type-id\n",
      "INFO:musicbrainzngs:in <ws2:begin-area>, uncaught attribute type-id\n",
      "INFO:musicbrainzngs:in <ws2:artist>, uncaught attribute type-id\n",
      "INFO:musicbrainzngs:in <ws2:artist>, uncaught attribute type-id\n",
      "INFO:musicbrainzngs:in <ws2:area>, uncaught attribute type-id\n",
      "INFO:musicbrainzngs:in <ws2:begin-area>, uncaught attribute type-id\n",
      "INFO:musicbrainzngs:in <ws2:area>, uncaught attribute type-id\n",
      "INFO:musicbrainzngs:in <ws2:artist>, uncaught attribute type-id\n",
      "INFO:musicbrainzngs:in <ws2:area>, uncaught attribute type-id\n",
      "INFO:musicbrainzngs:in <ws2:artist>, uncaught attribute type-id\n",
      "INFO:musicbrainzngs:in <ws2:artist>, uncaught attribute type-id\n",
      "INFO:musicbrainzngs:in <ws2:artist>, uncaught attribute type-id\n",
      "INFO:musicbrainzngs:in <ws2:area>, uncaught attribute type-id\n",
      "INFO:musicbrainzngs:in <ws2:artist>, uncaught attribute type-id\n",
      "INFO:musicbrainzngs:in <ws2:area>, uncaught attribute type-id\n",
      "INFO:musicbrainzngs:in <ws2:begin-area>, uncaught attribute type-id\n",
      "INFO:musicbrainzngs:in <ws2:alias>, uncaught attribute type-id\n",
      "INFO:musicbrainzngs:in <ws2:alias>, uncaught attribute type-id\n",
      "INFO:musicbrainzngs:in <ws2:alias>, uncaught attribute type-id\n",
      "INFO:musicbrainzngs:in <ws2:alias>, uncaught attribute type-id\n",
      "INFO:musicbrainzngs:in <ws2:alias>, uncaught attribute type-id\n",
      "INFO:musicbrainzngs:in <ws2:alias>, uncaught attribute type-id\n",
      "INFO:musicbrainzngs:in <ws2:alias>, uncaught attribute type-id\n",
      "INFO:musicbrainzngs:in <ws2:artist>, uncaught attribute type-id\n",
      "INFO:musicbrainzngs:in <ws2:area>, uncaught attribute type-id\n",
      "INFO:musicbrainzngs:in <ws2:begin-area>, uncaught attribute type-id\n",
      "INFO:musicbrainzngs:in <ws2:alias>, uncaught attribute type-id\n",
      "INFO:musicbrainzngs:in <ws2:alias>, uncaught attribute type-id\n",
      "INFO:musicbrainzngs:in <ws2:artist>, uncaught attribute type-id\n",
      "INFO:musicbrainzngs:in <ws2:area>, uncaught attribute type-id\n",
      "INFO:musicbrainzngs:in <ws2:begin-area>, uncaught attribute type-id\n",
      "INFO:musicbrainzngs:in <ws2:alias>, uncaught attribute type-id\n",
      "INFO:musicbrainzngs:in <ws2:artist>, uncaught attribute type-id\n",
      "INFO:musicbrainzngs:in <ws2:area>, uncaught attribute type-id\n",
      "INFO:musicbrainzngs:in <ws2:begin-area>, uncaught attribute type-id\n",
      "INFO:musicbrainzngs:in <ws2:end-area>, uncaught attribute type-id\n",
      "INFO:musicbrainzngs:in <ws2:alias>, uncaught attribute type-id\n",
      "INFO:musicbrainzngs:in <ws2:alias>, uncaught attribute type-id\n",
      "INFO:musicbrainzngs:in <ws2:artist>, uncaught attribute type-id\n",
      "INFO:musicbrainzngs:in <ws2:area>, uncaught attribute type-id\n",
      "INFO:musicbrainzngs:in <ws2:begin-area>, uncaught attribute type-id\n",
      "INFO:musicbrainzngs:in <ws2:artist>, uncaught attribute type-id\n",
      "INFO:musicbrainzngs:in <ws2:area>, uncaught attribute type-id\n",
      "INFO:musicbrainzngs:in <ws2:artist>, uncaught attribute type-id\n",
      "INFO:musicbrainzngs:in <ws2:artist>, uncaught attribute type-id\n",
      "INFO:musicbrainzngs:in <ws2:area>, uncaught attribute type-id\n",
      "INFO:musicbrainzngs:in <ws2:alias>, uncaught attribute type-id\n",
      "INFO:musicbrainzngs:in <ws2:alias>, uncaught attribute type-id\n",
      "INFO:musicbrainzngs:in <ws2:artist>, uncaught attribute type-id\n",
      "INFO:musicbrainzngs:in <ws2:area>, uncaught attribute type-id\n",
      "INFO:musicbrainzngs:in <ws2:begin-area>, uncaught attribute type-id\n",
      "INFO:musicbrainzngs:in <ws2:alias>, uncaught attribute type-id\n",
      "INFO:musicbrainzngs:in <ws2:alias>, uncaught attribute type-id\n",
      "INFO:musicbrainzngs:in <ws2:artist>, uncaught attribute type-id\n",
      "INFO:musicbrainzngs:in <ws2:area>, uncaught attribute type-id\n",
      "INFO:musicbrainzngs:in <ws2:begin-area>, uncaught attribute type-id\n",
      "INFO:musicbrainzngs:in <ws2:artist>, uncaught attribute type-id\n",
      "INFO:musicbrainzngs:in <ws2:area>, uncaught attribute type-id\n",
      "INFO:musicbrainzngs:in <ws2:begin-area>, uncaught attribute type-id\n",
      "INFO:musicbrainzngs:in <ws2:alias>, uncaught attribute type-id\n",
      "INFO:musicbrainzngs:in <ws2:alias>, uncaught attribute type-id\n",
      "INFO:musicbrainzngs:in <ws2:alias>, uncaught attribute type-id\n",
      "INFO:musicbrainzngs:in <ws2:artist>, uncaught attribute type-id\n",
      "INFO:musicbrainzngs:in <ws2:area>, uncaught attribute type-id\n",
      "INFO:musicbrainzngs:in <ws2:begin-area>, uncaught attribute type-id\n",
      "INFO:musicbrainzngs:in <ws2:alias>, uncaught attribute type-id\n",
      "INFO:musicbrainzngs:in <ws2:alias>, uncaught attribute type-id\n",
      "INFO:musicbrainzngs:in <ws2:artist>, uncaught attribute type-id\n",
      "INFO:musicbrainzngs:in <ws2:artist>, uncaught attribute type-id\n",
      "INFO:musicbrainzngs:in <ws2:area>, uncaught attribute type-id\n",
      "INFO:musicbrainzngs:in <ws2:artist>, uncaught attribute type-id\n",
      "INFO:musicbrainzngs:in <ws2:area>, uncaught attribute type-id\n",
      "INFO:musicbrainzngs:in <ws2:alias>, uncaught attribute type-id\n",
      "INFO:musicbrainzngs:in <ws2:artist>, uncaught attribute type-id\n",
      "INFO:musicbrainzngs:in <ws2:area>, uncaught attribute type-id\n",
      "INFO:musicbrainzngs:in <ws2:artist>, uncaught attribute type-id\n",
      "INFO:musicbrainzngs:in <ws2:area>, uncaught attribute type-id\n",
      "INFO:musicbrainzngs:in <ws2:begin-area>, uncaught attribute type-id\n",
      "INFO:musicbrainzngs:in <ws2:alias>, uncaught attribute type-id\n",
      "INFO:musicbrainzngs:in <ws2:artist>, uncaught attribute type-id\n",
      "INFO:musicbrainzngs:in <ws2:area>, uncaught attribute type-id\n",
      "INFO:musicbrainzngs:in <ws2:artist>, uncaught attribute type-id\n",
      "INFO:musicbrainzngs:in <ws2:area>, uncaught attribute type-id\n",
      "INFO:musicbrainzngs:in <ws2:begin-area>, uncaught attribute type-id\n",
      "INFO:musicbrainzngs:in <ws2:artist>, uncaught attribute type-id\n",
      "INFO:musicbrainzngs:in <ws2:area>, uncaught attribute type-id\n",
      "INFO:musicbrainzngs:in <ws2:begin-area>, uncaught attribute type-id\n",
      "INFO:musicbrainzngs:in <ws2:alias>, uncaught attribute type-id\n",
      "INFO:musicbrainzngs:in <ws2:artist>, uncaught attribute type-id\n",
      "INFO:musicbrainzngs:in <ws2:area>, uncaught attribute type-id\n",
      "INFO:musicbrainzngs:in <ws2:artist>, uncaught attribute type-id\n",
      "INFO:musicbrainzngs:in <ws2:area>, uncaught attribute type-id\n",
      "INFO:musicbrainzngs:in <ws2:artist>, uncaught attribute type-id\n",
      "INFO:musicbrainzngs:in <ws2:area>, uncaught attribute type-id\n",
      "INFO:musicbrainzngs:in <ws2:artist>, uncaught attribute type-id\n",
      "INFO:musicbrainzngs:in <ws2:area>, uncaught attribute type-id\n",
      "INFO:musicbrainzngs:in <ws2:artist>, uncaught attribute type-id\n",
      "INFO:musicbrainzngs:in <ws2:area>, uncaught attribute type-id\n",
      "INFO:musicbrainzngs:in <ws2:begin-area>, uncaught attribute type-id\n",
      "INFO:musicbrainzngs:in <ws2:artist>, uncaught attribute type-id\n",
      "INFO:musicbrainzngs:in <ws2:area>, uncaught attribute type-id\n",
      "INFO:musicbrainzngs:in <ws2:artist>, uncaught attribute type-id\n",
      "INFO:musicbrainzngs:in <ws2:area>, uncaught attribute type-id\n",
      "INFO:musicbrainzngs:in <ws2:begin-area>, uncaught attribute type-id\n",
      "INFO:musicbrainzngs:in <ws2:artist>, uncaught attribute type-id\n",
      "INFO:musicbrainzngs:in <ws2:area>, uncaught attribute type-id\n",
      "INFO:musicbrainzngs:in <ws2:artist>, uncaught attribute type-id\n",
      "INFO:musicbrainzngs:in <ws2:area>, uncaught attribute type-id\n",
      "INFO:musicbrainzngs:in <ws2:artist>, uncaught attribute type-id\n",
      "INFO:musicbrainzngs:in <ws2:area>, uncaught attribute type-id\n",
      "INFO:musicbrainzngs:in <ws2:artist>, uncaught attribute type-id\n",
      "INFO:musicbrainzngs:in <ws2:area>, uncaught attribute type-id\n",
      "INFO:musicbrainzngs:in <ws2:begin-area>, uncaught attribute type-id\n",
      "INFO:musicbrainzngs:in <ws2:alias>, uncaught attribute type-id\n",
      "INFO:musicbrainzngs:in <ws2:alias>, uncaught attribute type-id\n",
      "INFO:musicbrainzngs:in <ws2:alias>, uncaught attribute type-id\n",
      "INFO:musicbrainzngs:in <ws2:alias>, uncaught attribute type-id\n",
      "INFO:musicbrainzngs:in <ws2:alias>, uncaught attribute type-id\n",
      "INFO:musicbrainzngs:in <ws2:alias>, uncaught attribute type-id\n",
      "INFO:musicbrainzngs:in <ws2:artist>, uncaught attribute type-id\n",
      "INFO:musicbrainzngs:in <ws2:area>, uncaught attribute type-id\n",
      "INFO:musicbrainzngs:in <ws2:begin-area>, uncaught attribute type-id\n",
      "INFO:musicbrainzngs:in <ws2:artist>, uncaught attribute type-id\n",
      "INFO:musicbrainzngs:in <ws2:area>, uncaught attribute type-id\n",
      "INFO:musicbrainzngs:in <ws2:begin-area>, uncaught attribute type-id\n",
      "INFO:musicbrainzngs:in <ws2:alias>, uncaught attribute type-id\n",
      "INFO:musicbrainzngs:in <ws2:artist>, uncaught attribute type-id\n",
      "INFO:musicbrainzngs:in <ws2:area>, uncaught attribute type-id\n",
      "INFO:musicbrainzngs:in <ws2:begin-area>, uncaught attribute type-id\n",
      "INFO:musicbrainzngs:in <ws2:alias>, uncaught attribute type-id\n",
      "INFO:musicbrainzngs:in <ws2:artist>, uncaught attribute type-id\n",
      "INFO:musicbrainzngs:in <ws2:begin-area>, uncaught attribute type-id\n",
      "INFO:musicbrainzngs:in <ws2:alias>, uncaught attribute type-id\n",
      "INFO:musicbrainzngs:in <ws2:artist>, uncaught attribute type-id\n",
      "INFO:musicbrainzngs:in <ws2:area>, uncaught attribute type-id\n",
      "INFO:musicbrainzngs:in <ws2:begin-area>, uncaught attribute type-id\n",
      "INFO:musicbrainzngs:in <ws2:artist>, uncaught attribute type-id\n",
      "INFO:musicbrainzngs:in <ws2:area>, uncaught attribute type-id\n",
      "INFO:musicbrainzngs:in <ws2:begin-area>, uncaught attribute type-id\n",
      "INFO:musicbrainzngs:in <ws2:artist>, uncaught attribute type-id\n",
      "INFO:musicbrainzngs:in <ws2:area>, uncaught attribute type-id\n",
      "INFO:musicbrainzngs:in <ws2:artist>, uncaught attribute type-id\n",
      "INFO:musicbrainzngs:in <ws2:area>, uncaught attribute type-id\n",
      "INFO:musicbrainzngs:in <ws2:begin-area>, uncaught attribute type-id\n",
      "INFO:musicbrainzngs:in <ws2:alias>, uncaught attribute type-id\n",
      "INFO:musicbrainzngs:in <ws2:alias>, uncaught attribute type-id\n",
      "INFO:musicbrainzngs:in <ws2:artist>, uncaught attribute type-id\n",
      "INFO:musicbrainzngs:in <ws2:area>, uncaught attribute type-id\n",
      "INFO:musicbrainzngs:in <ws2:alias>, uncaught attribute type-id\n",
      "INFO:musicbrainzngs:in <ws2:artist>, uncaught attribute type-id\n",
      "INFO:musicbrainzngs:in <ws2:area>, uncaught attribute type-id\n",
      "INFO:musicbrainzngs:in <ws2:artist>, uncaught attribute type-id\n",
      "INFO:musicbrainzngs:in <ws2:area>, uncaught attribute type-id\n",
      "INFO:musicbrainzngs:in <ws2:artist>, uncaught attribute type-id\n",
      "INFO:musicbrainzngs:in <ws2:area>, uncaught attribute type-id\n",
      "INFO:musicbrainzngs:in <ws2:begin-area>, uncaught attribute type-id\n",
      "INFO:musicbrainzngs:in <ws2:end-area>, uncaught attribute type-id\n"
     ]
    }
   ],
   "source": [
    "query: dict = brainz.search_artists(\"b\", limit=100)"
   ]
  },
  {
   "cell_type": "code",
   "execution_count": 23,
   "metadata": {
    "pycharm": {
     "name": "#%%\n"
    }
   },
   "outputs": [],
   "source": [
    "artist = query[\"artist-list\"][7]\n",
    "newlist = sorted(artist['tag-list'], key=lambda k: int(k['count']), reverse=True)\n",
    "genre_list = [k['name'] for k in newlist]\n",
    "genre = '#'.join(genre_list if len(genre_list) < 4 else genre_list[:3])"
   ]
  },
  {
   "cell_type": "code",
   "execution_count": 24,
   "metadata": {
    "pycharm": {
     "name": "#%%\n"
    }
   },
   "outputs": [
    {
     "name": "stderr",
     "output_type": "stream",
     "text": [
      "DEBUG:musicbrainzngs:GET request for https://musicbrainz.org/ws/2/release/?artist=4336a134-d091-4e54-9967-c7c433db6d4e\n",
      "DEBUG:musicbrainzngs:requesting with UA cgan_trainings_data_grabber/0.0.1 python-musicbrainzngs/0.7.1 ( virtualnonsense@mailbox.org )\n"
     ]
    }
   ],
   "source": [
    "album_query = brainz.browse_releases(artist= artist[\"id\"])"
   ]
  },
  {
   "cell_type": "code",
   "execution_count": 5,
   "metadata": {
    "pycharm": {
     "name": "#%%\n"
    }
   },
   "outputs": [
    {
     "name": "stderr",
     "output_type": "stream",
     "text": [
      "DEBUG:musicbrainzngs:GET request for https://coverartarchive.org/release/8206ed48-c76e-3537-a0dd-eeb965fc15a0/front-250\n",
      "DEBUG:musicbrainzngs:requesting with UA cgan_trainings_data_grabber/0.0.1 python-musicbrainzngs/0.7.1 ( virtualnonsense@mailbox.org )\n"
     ]
    }
   ],
   "source": [
    "record = album_query[\"release-list\"][2]\n",
    "record_id = record[\"id\"]\n",
    "art = brainz.get_image(record_id, \"front\", size=\"250\")"
   ]
  },
  {
   "cell_type": "code",
   "execution_count": 6,
   "metadata": {
    "pycharm": {
     "name": "#%%\n"
    }
   },
   "outputs": [],
   "source": [
    "image = Image.open(io.BytesIO(art))\n",
    "#image.save(f\"{record['date']}__artist_title.png\")"
   ]
  },
  {
   "cell_type": "code",
   "execution_count": 8,
   "outputs": [],
   "source": [
    "startswitha = str(artist['name']).lower().startswith('a')\n",
    "\n"
   ],
   "metadata": {
    "collapsed": false,
    "pycharm": {
     "name": "#%%\n"
    }
   }
  },
  {
   "cell_type": "code",
   "execution_count": 11,
   "outputs": [
    {
     "name": "stderr",
     "output_type": "stream",
     "text": [
      "DEBUG:musicbrainzngs:GET request for https://musicbrainz.org/ws/2/release/?artist=24e1b53c-3085-4581-8472-0b0088d2508c\n",
      "DEBUG:musicbrainzngs:requesting with UA cgan_trainings_data_grabber/0.0.1 python-musicbrainzngs/0.7.1 ( virtualnonsense@mailbox.org )\n"
     ]
    }
   ],
   "source": [
    "newlist = sorted(artist['tag-list'], key=lambda k: int(k['count']), reverse=True)\n",
    "genre_list = [k['name'] for k in newlist]\n",
    "genre = '#'.join(genre_list if len(genre_list) < 4 else genre_list[:3])\n",
    "album_query = brainz.browse_releases(artist=artist[\"id\"])"
   ],
   "metadata": {
    "collapsed": false,
    "pycharm": {
     "name": "#%%\n"
    }
   }
  },
  {
   "cell_type": "code",
   "execution_count": 19,
   "outputs": [],
   "source": [
    "for release in album_query['release-list']:\n",
    "    if release['cover-art-archive']['artwork'].lower() == 'true':\n",
    "        id = release['id']\n",
    "        break"
   ],
   "metadata": {
    "collapsed": false,
    "pycharm": {
     "name": "#%%\n"
    }
   }
  },
  {
   "cell_type": "code",
   "execution_count": 21,
   "outputs": [
    {
     "name": "stderr",
     "output_type": "stream",
     "text": [
      "DEBUG:musicbrainzngs:GET request for https://coverartarchive.org/release/8206ed48-c76e-3537-a0dd-eeb965fc15a0/front-250\n",
      "DEBUG:musicbrainzngs:requesting with UA cgan_trainings_data_grabber/0.0.1 python-musicbrainzngs/0.7.1 ( virtualnonsense@mailbox.org )\n"
     ]
    }
   ],
   "source": [
    "art = brainz.get_image_front(release['id'], size=250)\n",
    "image = Image.open(io.BytesIO(art))"
   ],
   "metadata": {
    "collapsed": false,
    "pycharm": {
     "name": "#%%\n"
    }
   }
  }
 ],
 "metadata": {
  "kernelspec": {
   "name": "python3",
   "language": "python",
   "display_name": "Python 3"
  },
  "language_info": {
   "codemirror_mode": {
    "name": "ipython",
    "version": 3
   },
   "file_extension": ".py",
   "mimetype": "text/x-python",
   "name": "python",
   "nbconvert_exporter": "python",
   "pygments_lexer": "ipython3",
   "version": "3.8.5"
  }
 },
 "nbformat": 4,
 "nbformat_minor": 1
}